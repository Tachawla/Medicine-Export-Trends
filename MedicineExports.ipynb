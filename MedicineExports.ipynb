{
  "nbformat": 4,
  "nbformat_minor": 0,
  "metadata": {
    "colab": {
      "name": "MedicineExports.ipynb",
      "provenance": [],
      "collapsed_sections": [],
      "mount_file_id": "1Kv5o9zprlMG51Lqsfyq-PkjBt6GYcaCh",
      "authorship_tag": "ABX9TyP+0AdJzVs5imq0RwECC1Pi",
      "include_colab_link": true
    },
    "kernelspec": {
      "name": "python3",
      "display_name": "Python 3"
    },
    "language_info": {
      "name": "python"
    }
  },
  "cells": [
    {
      "cell_type": "markdown",
      "metadata": {
        "id": "view-in-github",
        "colab_type": "text"
      },
      "source": [
        "<a href=\"https://colab.research.google.com/github/Tachawla/Medicine-Export-Trends/blob/main/MedicineExports.ipynb\" target=\"_parent\"><img src=\"https://colab.research.google.com/assets/colab-badge.svg\" alt=\"Open In Colab\"/></a>"
      ]
    },
    {
      "cell_type": "code",
      "metadata": {
        "colab": {
          "base_uri": "https://localhost:8080/",
          "height": 175
        },
        "id": "aqyOvECmLqAz",
        "outputId": "822d9c21-2e9a-42a0-f21b-eee82e4577f1"
      },
      "source": [
        "import pandas as pd\n",
        "import numpy as np\n",
        "import matplotlib.pyplot as plt\n",
        "import seaborn as sns\n",
        "\n",
        "filename='/content/Drug & Medicine Exports.xlsx'\n",
        "df=pd.read_excel(filename)\n",
        "\n",
        "# Explore medicine exports from India over the years\n",
        "India_filter=df['Exporter']=='India'\n",
        "India_filter.head()\n",
        "\n",
        "# Drop the missing valu\n",
        "India = df.loc[India_filter,:].dropna(how='any')\n",
        "India"
      ],
      "execution_count": 29,
      "outputs": [
        {
          "output_type": "execute_result",
          "data": {
            "text/html": [
              "<div>\n",
              "<style scoped>\n",
              "    .dataframe tbody tr th:only-of-type {\n",
              "        vertical-align: middle;\n",
              "    }\n",
              "\n",
              "    .dataframe tbody tr th {\n",
              "        vertical-align: top;\n",
              "    }\n",
              "\n",
              "    .dataframe thead th {\n",
              "        text-align: right;\n",
              "    }\n",
              "</style>\n",
              "<table border=\"1\" class=\"dataframe\">\n",
              "  <thead>\n",
              "    <tr style=\"text-align: right;\">\n",
              "      <th></th>\n",
              "      <th>Exporter</th>\n",
              "      <th>Year</th>\n",
              "      <th>Exports (USD)</th>\n",
              "    </tr>\n",
              "  </thead>\n",
              "  <tbody>\n",
              "    <tr>\n",
              "      <th>10</th>\n",
              "      <td>India</td>\n",
              "      <td>2013</td>\n",
              "      <td>1.031399e+10</td>\n",
              "    </tr>\n",
              "    <tr>\n",
              "      <th>230</th>\n",
              "      <td>India</td>\n",
              "      <td>2014</td>\n",
              "      <td>1.030273e+10</td>\n",
              "    </tr>\n",
              "    <tr>\n",
              "      <th>450</th>\n",
              "      <td>India</td>\n",
              "      <td>2015</td>\n",
              "      <td>1.123559e+10</td>\n",
              "    </tr>\n",
              "    <tr>\n",
              "      <th>670</th>\n",
              "      <td>India</td>\n",
              "      <td>2016</td>\n",
              "      <td>1.161202e+10</td>\n",
              "    </tr>\n",
              "  </tbody>\n",
              "</table>\n",
              "</div>"
            ],
            "text/plain": [
              "    Exporter  Year  Exports (USD)\n",
              "10     India  2013   1.031399e+10\n",
              "230    India  2014   1.030273e+10\n",
              "450    India  2015   1.123559e+10\n",
              "670    India  2016   1.161202e+10"
            ]
          },
          "metadata": {
            "tags": []
          },
          "execution_count": 29
        }
      ]
    },
    {
      "cell_type": "code",
      "metadata": {
        "colab": {
          "base_uri": "https://localhost:8080/",
          "height": 382
        },
        "id": "Dbfz-e5VWZHY",
        "outputId": "2e9d7bc0-68cb-42ca-9656-5c8e9c40a06b"
      },
      "source": [
        "# Create a bar chart\n",
        "plt.bar(India['Year'],India['Exports (USD)'],color='cyan')\n",
        "plt.title('Medicine Export Trends of India')\n",
        "plt.xlabel('Year')\n",
        "plt.ylabel('Exports in USD (in tens of billions)')\n",
        "\n",
        "plt.grid(axis='y')\n",
        "\n",
        "plt.xticks([2013,2014,2015,2016])"
      ],
      "execution_count": 40,
      "outputs": [
        {
          "output_type": "execute_result",
          "data": {
            "text/plain": [
              "([<matplotlib.axis.XTick at 0x7f660cc6e610>,\n",
              "  <matplotlib.axis.XTick at 0x7f660cb21110>,\n",
              "  <matplotlib.axis.XTick at 0x7f660cc6e1d0>,\n",
              "  <matplotlib.axis.XTick at 0x7f660caee710>],\n",
              " <a list of 4 Text major ticklabel objects>)"
            ]
          },
          "metadata": {
            "tags": []
          },
          "execution_count": 40
        },
        {
          "output_type": "display_data",
          "data": {
            "image/png": "[encoded data removed]",
            "text/plain": [
              "<Figure size 432x288 with 1 Axes>"
            ]
          },
          "metadata": {
            "tags": [],
            "needs_background": "light"
          }
        }
      ]
    }
  ]
}